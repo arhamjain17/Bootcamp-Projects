from sklearn.tree import DecisionTreeRegressor
from sklearn.metrics import r2_score

dt_regressor = DecisionTreeRegressor(random_state=42)
dt_regressor.fit(x_train, y_train)

dt_predictions = dt_regressor.predict(x_test)

dt_predictions = dt_predictions.flatten()

dt_results = pd.DataFrame({
    "Actual": y_test.flatten(),
    "Predicted": dt_predictions
})
print(dt_results.head())

dt_r2 = r2_score(y_test, dt_predictions)
print("Decision Tree Regressor R² Score:", dt_r2)
